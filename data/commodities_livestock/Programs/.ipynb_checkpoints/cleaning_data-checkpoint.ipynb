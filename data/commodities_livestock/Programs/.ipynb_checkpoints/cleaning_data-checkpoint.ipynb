{
 "cells": [
  {
   "cell_type": "code",
   "execution_count": 1,
   "metadata": {},
   "outputs": [],
   "source": [
    "import pandas as pd\n",
    "from sqlalchemy import create_engine\n",
    "from sqlalchemy.types import Integer, Text, String, DateTime\n",
    "import matplotlib.pyplot as plt\n",
    "\n",
    "import datetime"
   ]
  },
  {
   "cell_type": "code",
   "execution_count": 2,
   "metadata": {},
   "outputs": [
    {
     "data": {
      "text/html": [
       "<div>\n",
       "<style scoped>\n",
       "    .dataframe tbody tr th:only-of-type {\n",
       "        vertical-align: middle;\n",
       "    }\n",
       "\n",
       "    .dataframe tbody tr th {\n",
       "        vertical-align: top;\n",
       "    }\n",
       "\n",
       "    .dataframe thead th {\n",
       "        text-align: right;\n",
       "    }\n",
       "</style>\n",
       "<table border=\"1\" class=\"dataframe\">\n",
       "  <thead>\n",
       "    <tr style=\"text-align: right;\">\n",
       "      <th></th>\n",
       "      <th>Date</th>\n",
       "      <th>Price</th>\n",
       "      <th>Open</th>\n",
       "      <th>High</th>\n",
       "      <th>Low</th>\n",
       "      <th>Vol.</th>\n",
       "      <th>Change %</th>\n",
       "    </tr>\n",
       "  </thead>\n",
       "  <tbody>\n",
       "    <tr>\n",
       "      <th>0</th>\n",
       "      <td>1999-10-25</td>\n",
       "      <td>48.45</td>\n",
       "      <td>49.30</td>\n",
       "      <td>49.70</td>\n",
       "      <td>48.30</td>\n",
       "      <td>5.71K</td>\n",
       "      <td>-1.62%</td>\n",
       "    </tr>\n",
       "    <tr>\n",
       "      <th>1</th>\n",
       "      <td>1999-10-22</td>\n",
       "      <td>49.25</td>\n",
       "      <td>49.10</td>\n",
       "      <td>49.65</td>\n",
       "      <td>48.75</td>\n",
       "      <td>4.55K</td>\n",
       "      <td>1.03%</td>\n",
       "    </tr>\n",
       "    <tr>\n",
       "      <th>2</th>\n",
       "      <td>1999-10-21</td>\n",
       "      <td>48.75</td>\n",
       "      <td>48.33</td>\n",
       "      <td>48.80</td>\n",
       "      <td>47.60</td>\n",
       "      <td>4.60K</td>\n",
       "      <td>1.73%</td>\n",
       "    </tr>\n",
       "    <tr>\n",
       "      <th>3</th>\n",
       "      <td>1999-10-20</td>\n",
       "      <td>47.92</td>\n",
       "      <td>48.98</td>\n",
       "      <td>49.30</td>\n",
       "      <td>47.65</td>\n",
       "      <td>6.01K</td>\n",
       "      <td>-2.16%</td>\n",
       "    </tr>\n",
       "    <tr>\n",
       "      <th>4</th>\n",
       "      <td>1999-10-19</td>\n",
       "      <td>48.98</td>\n",
       "      <td>47.20</td>\n",
       "      <td>49.05</td>\n",
       "      <td>46.95</td>\n",
       "      <td>7.22K</td>\n",
       "      <td>3.71%</td>\n",
       "    </tr>\n",
       "  </tbody>\n",
       "</table>\n",
       "</div>"
      ],
      "text/plain": [
       "        Date  Price   Open   High    Low   Vol. Change %\n",
       "0 1999-10-25  48.45  49.30  49.70  48.30  5.71K   -1.62%\n",
       "1 1999-10-22  49.25  49.10  49.65  48.75  4.55K    1.03%\n",
       "2 1999-10-21  48.75  48.33  48.80  47.60  4.60K    1.73%\n",
       "3 1999-10-20  47.92  48.98  49.30  47.65  6.01K   -2.16%\n",
       "4 1999-10-19  48.98  47.20  49.05  46.95  7.22K    3.71%"
      ]
     },
     "execution_count": 2,
     "metadata": {},
     "output_type": "execute_result"
    }
   ],
   "source": [
    "lean_hogs = pd.read_csv(\"../original_data/lean_hogs.csv\")\n",
    "lean_hogs[\"Date\"] = pd.to_datetime(lean_hogs[\"Date\"])\n",
    "lean_hogs.head()"
   ]
  },
  {
   "cell_type": "code",
   "execution_count": 3,
   "metadata": {},
   "outputs": [
    {
     "data": {
      "text/html": [
       "<div>\n",
       "<style scoped>\n",
       "    .dataframe tbody tr th:only-of-type {\n",
       "        vertical-align: middle;\n",
       "    }\n",
       "\n",
       "    .dataframe tbody tr th {\n",
       "        vertical-align: top;\n",
       "    }\n",
       "\n",
       "    .dataframe thead th {\n",
       "        text-align: right;\n",
       "    }\n",
       "</style>\n",
       "<table border=\"1\" class=\"dataframe\">\n",
       "  <thead>\n",
       "    <tr style=\"text-align: right;\">\n",
       "      <th></th>\n",
       "      <th>Date</th>\n",
       "      <th>Price</th>\n",
       "      <th>Open</th>\n",
       "      <th>High</th>\n",
       "      <th>Low</th>\n",
       "      <th>Vol.</th>\n",
       "      <th>Change %</th>\n",
       "    </tr>\n",
       "  </thead>\n",
       "  <tbody>\n",
       "    <tr>\n",
       "      <th>0</th>\n",
       "      <td>2013-08-09</td>\n",
       "      <td>153.85</td>\n",
       "      <td>154.00</td>\n",
       "      <td>154.38</td>\n",
       "      <td>153.20</td>\n",
       "      <td>0.95K</td>\n",
       "      <td>-0.26%</td>\n",
       "    </tr>\n",
       "    <tr>\n",
       "      <th>1</th>\n",
       "      <td>2013-08-12</td>\n",
       "      <td>153.50</td>\n",
       "      <td>153.93</td>\n",
       "      <td>154.10</td>\n",
       "      <td>152.60</td>\n",
       "      <td>0.90K</td>\n",
       "      <td>-0.23%</td>\n",
       "    </tr>\n",
       "    <tr>\n",
       "      <th>2</th>\n",
       "      <td>2013-08-13</td>\n",
       "      <td>153.85</td>\n",
       "      <td>153.62</td>\n",
       "      <td>154.15</td>\n",
       "      <td>153.28</td>\n",
       "      <td>0.81K</td>\n",
       "      <td>0.23%</td>\n",
       "    </tr>\n",
       "    <tr>\n",
       "      <th>3</th>\n",
       "      <td>2013-08-14</td>\n",
       "      <td>153.60</td>\n",
       "      <td>153.75</td>\n",
       "      <td>154.10</td>\n",
       "      <td>153.22</td>\n",
       "      <td>0.76K</td>\n",
       "      <td>-0.16%</td>\n",
       "    </tr>\n",
       "    <tr>\n",
       "      <th>4</th>\n",
       "      <td>2013-08-15</td>\n",
       "      <td>154.10</td>\n",
       "      <td>153.82</td>\n",
       "      <td>154.28</td>\n",
       "      <td>153.20</td>\n",
       "      <td>1.49K</td>\n",
       "      <td>0.33%</td>\n",
       "    </tr>\n",
       "  </tbody>\n",
       "</table>\n",
       "</div>"
      ],
      "text/plain": [
       "        Date   Price    Open    High     Low   Vol. Change %\n",
       "0 2013-08-09  153.85  154.00  154.38  153.20  0.95K   -0.26%\n",
       "1 2013-08-12  153.50  153.93  154.10  152.60  0.90K   -0.23%\n",
       "2 2013-08-13  153.85  153.62  154.15  153.28  0.81K    0.23%\n",
       "3 2013-08-14  153.60  153.75  154.10  153.22  0.76K   -0.16%\n",
       "4 2013-08-15  154.10  153.82  154.28  153.20  1.49K    0.33%"
      ]
     },
     "execution_count": 3,
     "metadata": {},
     "output_type": "execute_result"
    }
   ],
   "source": [
    "feeder_cattle = pd.read_csv(\"../original_data/feeder_cattle.csv\")\n",
    "feeder_cattle[\"Date\"] = pd.to_datetime(feeder_cattle[\"Date\"])\n",
    "feeder_cattle.head()"
   ]
  },
  {
   "cell_type": "code",
   "execution_count": 4,
   "metadata": {},
   "outputs": [
    {
     "data": {
      "text/html": [
       "<div>\n",
       "<style scoped>\n",
       "    .dataframe tbody tr th:only-of-type {\n",
       "        vertical-align: middle;\n",
       "    }\n",
       "\n",
       "    .dataframe tbody tr th {\n",
       "        vertical-align: top;\n",
       "    }\n",
       "\n",
       "    .dataframe thead th {\n",
       "        text-align: right;\n",
       "    }\n",
       "</style>\n",
       "<table border=\"1\" class=\"dataframe\">\n",
       "  <thead>\n",
       "    <tr style=\"text-align: right;\">\n",
       "      <th></th>\n",
       "      <th>Date</th>\n",
       "      <th>Price</th>\n",
       "      <th>Open</th>\n",
       "      <th>High</th>\n",
       "      <th>Low</th>\n",
       "      <th>Vol.</th>\n",
       "      <th>Change %</th>\n",
       "    </tr>\n",
       "  </thead>\n",
       "  <tbody>\n",
       "    <tr>\n",
       "      <th>0</th>\n",
       "      <td>1999-10-21</td>\n",
       "      <td>71.175</td>\n",
       "      <td>71.5</td>\n",
       "      <td>71.60</td>\n",
       "      <td>70.95</td>\n",
       "      <td>1.74K</td>\n",
       "      <td>-0.28%</td>\n",
       "    </tr>\n",
       "    <tr>\n",
       "      <th>1</th>\n",
       "      <td>1999-10-20</td>\n",
       "      <td>71.375</td>\n",
       "      <td>72.2</td>\n",
       "      <td>72.20</td>\n",
       "      <td>71.20</td>\n",
       "      <td>1.65K</td>\n",
       "      <td>-1.42%</td>\n",
       "    </tr>\n",
       "    <tr>\n",
       "      <th>2</th>\n",
       "      <td>1999-10-19</td>\n",
       "      <td>72.400</td>\n",
       "      <td>71.5</td>\n",
       "      <td>72.45</td>\n",
       "      <td>71.40</td>\n",
       "      <td>1.68K</td>\n",
       "      <td>1.29%</td>\n",
       "    </tr>\n",
       "    <tr>\n",
       "      <th>3</th>\n",
       "      <td>1999-10-18</td>\n",
       "      <td>71.475</td>\n",
       "      <td>71.5</td>\n",
       "      <td>71.50</td>\n",
       "      <td>71.10</td>\n",
       "      <td>1.16K</td>\n",
       "      <td>0.78%</td>\n",
       "    </tr>\n",
       "    <tr>\n",
       "      <th>4</th>\n",
       "      <td>1999-10-15</td>\n",
       "      <td>70.925</td>\n",
       "      <td>71.0</td>\n",
       "      <td>71.20</td>\n",
       "      <td>70.75</td>\n",
       "      <td>1.29K</td>\n",
       "      <td>-0.42%</td>\n",
       "    </tr>\n",
       "  </tbody>\n",
       "</table>\n",
       "</div>"
      ],
      "text/plain": [
       "        Date   Price  Open   High    Low   Vol. Change %\n",
       "0 1999-10-21  71.175  71.5  71.60  70.95  1.74K   -0.28%\n",
       "1 1999-10-20  71.375  72.2  72.20  71.20  1.65K   -1.42%\n",
       "2 1999-10-19  72.400  71.5  72.45  71.40  1.68K    1.29%\n",
       "3 1999-10-18  71.475  71.5  71.50  71.10  1.16K    0.78%\n",
       "4 1999-10-15  70.925  71.0  71.20  70.75  1.29K   -0.42%"
      ]
     },
     "execution_count": 4,
     "metadata": {},
     "output_type": "execute_result"
    }
   ],
   "source": [
    "live_cattle = pd.read_csv(\"../original_data/live_cattle.csv\")\n",
    "live_cattle[\"Date\"] = pd.to_datetime(live_cattle[\"Date\"])\n",
    "live_cattle.head()"
   ]
  },
  {
   "cell_type": "code",
   "execution_count": 5,
   "metadata": {},
   "outputs": [],
   "source": [
    "lean_hogs[\"Price per unit (USD/lb)\"] = lean_hogs[\"Price\"]/(1000*float(str(lean_hogs[\"Vol.\"]).split(\"K\")[0].split()[-1]))\n",
    "feeder_cattle[\"Price per unit (USD/lb)\"] = feeder_cattle[\"Price\"]/(1000*float(str(feeder_cattle[\"Vol.\"]).split(\"K\")[0].split()[-1]))\n",
    "live_cattle[\"Price per unit (USD/lb)\"] = live_cattle[\"Price\"]/(1000*float(str(live_cattle[\"Vol.\"]).split(\"K\")[0].split()[-1]))\n",
    "\n",
    "lean_hogs_df = lean_hogs[[\"Date\", \"Price per unit (USD/lb)\"]]\n",
    "feeder_cattle_df = feeder_cattle[[\"Date\", \"Price per unit (USD/lb)\"]]\n",
    "live_cattle_df = live_cattle[[\"Date\", \"Price per unit (USD/lb)\"]]\n",
    "\n",
    "lean_hogs_df = lean_hogs.set_index(\"Date\")\n",
    "feeder_cattle_df = feeder_cattle.set_index(\"Date\")\n",
    "live_cattle_df = live_cattle.set_index(\"Date\")"
   ]
  },
  {
   "cell_type": "code",
   "execution_count": 6,
   "metadata": {},
   "outputs": [
    {
     "data": {
      "text/html": [
       "<div>\n",
       "<style scoped>\n",
       "    .dataframe tbody tr th:only-of-type {\n",
       "        vertical-align: middle;\n",
       "    }\n",
       "\n",
       "    .dataframe tbody tr th {\n",
       "        vertical-align: top;\n",
       "    }\n",
       "\n",
       "    .dataframe thead th {\n",
       "        text-align: right;\n",
       "    }\n",
       "</style>\n",
       "<table border=\"1\" class=\"dataframe\">\n",
       "  <thead>\n",
       "    <tr style=\"text-align: right;\">\n",
       "      <th></th>\n",
       "      <th>Price</th>\n",
       "      <th>Open</th>\n",
       "      <th>High</th>\n",
       "      <th>Low</th>\n",
       "      <th>Vol.</th>\n",
       "      <th>Change %</th>\n",
       "      <th>Price per unit (USD/lb)</th>\n",
       "    </tr>\n",
       "    <tr>\n",
       "      <th>Date</th>\n",
       "      <th></th>\n",
       "      <th></th>\n",
       "      <th></th>\n",
       "      <th></th>\n",
       "      <th></th>\n",
       "      <th></th>\n",
       "      <th></th>\n",
       "    </tr>\n",
       "  </thead>\n",
       "  <tbody>\n",
       "    <tr>\n",
       "      <th>1999-10-25</th>\n",
       "      <td>48.45</td>\n",
       "      <td>49.30</td>\n",
       "      <td>49.70</td>\n",
       "      <td>48.30</td>\n",
       "      <td>5.71K</td>\n",
       "      <td>-1.62%</td>\n",
       "      <td>0.008485</td>\n",
       "    </tr>\n",
       "    <tr>\n",
       "      <th>1999-10-22</th>\n",
       "      <td>49.25</td>\n",
       "      <td>49.10</td>\n",
       "      <td>49.65</td>\n",
       "      <td>48.75</td>\n",
       "      <td>4.55K</td>\n",
       "      <td>1.03%</td>\n",
       "      <td>0.008625</td>\n",
       "    </tr>\n",
       "    <tr>\n",
       "      <th>1999-10-21</th>\n",
       "      <td>48.75</td>\n",
       "      <td>48.33</td>\n",
       "      <td>48.80</td>\n",
       "      <td>47.60</td>\n",
       "      <td>4.60K</td>\n",
       "      <td>1.73%</td>\n",
       "      <td>0.008538</td>\n",
       "    </tr>\n",
       "    <tr>\n",
       "      <th>1999-10-20</th>\n",
       "      <td>47.92</td>\n",
       "      <td>48.98</td>\n",
       "      <td>49.30</td>\n",
       "      <td>47.65</td>\n",
       "      <td>6.01K</td>\n",
       "      <td>-2.16%</td>\n",
       "      <td>0.008392</td>\n",
       "    </tr>\n",
       "    <tr>\n",
       "      <th>1999-10-19</th>\n",
       "      <td>48.98</td>\n",
       "      <td>47.20</td>\n",
       "      <td>49.05</td>\n",
       "      <td>46.95</td>\n",
       "      <td>7.22K</td>\n",
       "      <td>3.71%</td>\n",
       "      <td>0.008578</td>\n",
       "    </tr>\n",
       "  </tbody>\n",
       "</table>\n",
       "</div>"
      ],
      "text/plain": [
       "            Price   Open   High    Low   Vol. Change %  \\\n",
       "Date                                                     \n",
       "1999-10-25  48.45  49.30  49.70  48.30  5.71K   -1.62%   \n",
       "1999-10-22  49.25  49.10  49.65  48.75  4.55K    1.03%   \n",
       "1999-10-21  48.75  48.33  48.80  47.60  4.60K    1.73%   \n",
       "1999-10-20  47.92  48.98  49.30  47.65  6.01K   -2.16%   \n",
       "1999-10-19  48.98  47.20  49.05  46.95  7.22K    3.71%   \n",
       "\n",
       "            Price per unit (USD/lb)  \n",
       "Date                                 \n",
       "1999-10-25                 0.008485  \n",
       "1999-10-22                 0.008625  \n",
       "1999-10-21                 0.008538  \n",
       "1999-10-20                 0.008392  \n",
       "1999-10-19                 0.008578  "
      ]
     },
     "execution_count": 6,
     "metadata": {},
     "output_type": "execute_result"
    }
   ],
   "source": [
    "lean_hogs_df.head()"
   ]
  },
  {
   "cell_type": "code",
   "execution_count": 7,
   "metadata": {},
   "outputs": [
    {
     "data": {
      "text/html": [
       "<div>\n",
       "<style scoped>\n",
       "    .dataframe tbody tr th:only-of-type {\n",
       "        vertical-align: middle;\n",
       "    }\n",
       "\n",
       "    .dataframe tbody tr th {\n",
       "        vertical-align: top;\n",
       "    }\n",
       "\n",
       "    .dataframe thead th {\n",
       "        text-align: right;\n",
       "    }\n",
       "</style>\n",
       "<table border=\"1\" class=\"dataframe\">\n",
       "  <thead>\n",
       "    <tr style=\"text-align: right;\">\n",
       "      <th></th>\n",
       "      <th>Price</th>\n",
       "      <th>Open</th>\n",
       "      <th>High</th>\n",
       "      <th>Low</th>\n",
       "      <th>Vol.</th>\n",
       "      <th>Change %</th>\n",
       "      <th>Price per unit (USD/lb)</th>\n",
       "    </tr>\n",
       "    <tr>\n",
       "      <th>Date</th>\n",
       "      <th></th>\n",
       "      <th></th>\n",
       "      <th></th>\n",
       "      <th></th>\n",
       "      <th></th>\n",
       "      <th></th>\n",
       "      <th></th>\n",
       "    </tr>\n",
       "  </thead>\n",
       "  <tbody>\n",
       "    <tr>\n",
       "      <th>2013-08-09</th>\n",
       "      <td>153.85</td>\n",
       "      <td>154.00</td>\n",
       "      <td>154.38</td>\n",
       "      <td>153.20</td>\n",
       "      <td>0.95K</td>\n",
       "      <td>-0.26%</td>\n",
       "      <td>0.161947</td>\n",
       "    </tr>\n",
       "    <tr>\n",
       "      <th>2013-08-12</th>\n",
       "      <td>153.50</td>\n",
       "      <td>153.93</td>\n",
       "      <td>154.10</td>\n",
       "      <td>152.60</td>\n",
       "      <td>0.90K</td>\n",
       "      <td>-0.23%</td>\n",
       "      <td>0.161579</td>\n",
       "    </tr>\n",
       "    <tr>\n",
       "      <th>2013-08-13</th>\n",
       "      <td>153.85</td>\n",
       "      <td>153.62</td>\n",
       "      <td>154.15</td>\n",
       "      <td>153.28</td>\n",
       "      <td>0.81K</td>\n",
       "      <td>0.23%</td>\n",
       "      <td>0.161947</td>\n",
       "    </tr>\n",
       "    <tr>\n",
       "      <th>2013-08-14</th>\n",
       "      <td>153.60</td>\n",
       "      <td>153.75</td>\n",
       "      <td>154.10</td>\n",
       "      <td>153.22</td>\n",
       "      <td>0.76K</td>\n",
       "      <td>-0.16%</td>\n",
       "      <td>0.161684</td>\n",
       "    </tr>\n",
       "    <tr>\n",
       "      <th>2013-08-15</th>\n",
       "      <td>154.10</td>\n",
       "      <td>153.82</td>\n",
       "      <td>154.28</td>\n",
       "      <td>153.20</td>\n",
       "      <td>1.49K</td>\n",
       "      <td>0.33%</td>\n",
       "      <td>0.162211</td>\n",
       "    </tr>\n",
       "  </tbody>\n",
       "</table>\n",
       "</div>"
      ],
      "text/plain": [
       "             Price    Open    High     Low   Vol. Change %  \\\n",
       "Date                                                         \n",
       "2013-08-09  153.85  154.00  154.38  153.20  0.95K   -0.26%   \n",
       "2013-08-12  153.50  153.93  154.10  152.60  0.90K   -0.23%   \n",
       "2013-08-13  153.85  153.62  154.15  153.28  0.81K    0.23%   \n",
       "2013-08-14  153.60  153.75  154.10  153.22  0.76K   -0.16%   \n",
       "2013-08-15  154.10  153.82  154.28  153.20  1.49K    0.33%   \n",
       "\n",
       "            Price per unit (USD/lb)  \n",
       "Date                                 \n",
       "2013-08-09                 0.161947  \n",
       "2013-08-12                 0.161579  \n",
       "2013-08-13                 0.161947  \n",
       "2013-08-14                 0.161684  \n",
       "2013-08-15                 0.162211  "
      ]
     },
     "execution_count": 7,
     "metadata": {},
     "output_type": "execute_result"
    }
   ],
   "source": [
    "feeder_cattle_df.head()"
   ]
  },
  {
   "cell_type": "code",
   "execution_count": 8,
   "metadata": {},
   "outputs": [
    {
     "data": {
      "text/html": [
       "<div>\n",
       "<style scoped>\n",
       "    .dataframe tbody tr th:only-of-type {\n",
       "        vertical-align: middle;\n",
       "    }\n",
       "\n",
       "    .dataframe tbody tr th {\n",
       "        vertical-align: top;\n",
       "    }\n",
       "\n",
       "    .dataframe thead th {\n",
       "        text-align: right;\n",
       "    }\n",
       "</style>\n",
       "<table border=\"1\" class=\"dataframe\">\n",
       "  <thead>\n",
       "    <tr style=\"text-align: right;\">\n",
       "      <th></th>\n",
       "      <th>Price</th>\n",
       "      <th>Open</th>\n",
       "      <th>High</th>\n",
       "      <th>Low</th>\n",
       "      <th>Vol.</th>\n",
       "      <th>Change %</th>\n",
       "      <th>Price per unit (USD/lb)</th>\n",
       "    </tr>\n",
       "    <tr>\n",
       "      <th>Date</th>\n",
       "      <th></th>\n",
       "      <th></th>\n",
       "      <th></th>\n",
       "      <th></th>\n",
       "      <th></th>\n",
       "      <th></th>\n",
       "      <th></th>\n",
       "    </tr>\n",
       "  </thead>\n",
       "  <tbody>\n",
       "    <tr>\n",
       "      <th>1999-10-21</th>\n",
       "      <td>71.175</td>\n",
       "      <td>71.5</td>\n",
       "      <td>71.60</td>\n",
       "      <td>70.95</td>\n",
       "      <td>1.74K</td>\n",
       "      <td>-0.28%</td>\n",
       "      <td>0.040905</td>\n",
       "    </tr>\n",
       "    <tr>\n",
       "      <th>1999-10-20</th>\n",
       "      <td>71.375</td>\n",
       "      <td>72.2</td>\n",
       "      <td>72.20</td>\n",
       "      <td>71.20</td>\n",
       "      <td>1.65K</td>\n",
       "      <td>-1.42%</td>\n",
       "      <td>0.041020</td>\n",
       "    </tr>\n",
       "    <tr>\n",
       "      <th>1999-10-19</th>\n",
       "      <td>72.400</td>\n",
       "      <td>71.5</td>\n",
       "      <td>72.45</td>\n",
       "      <td>71.40</td>\n",
       "      <td>1.68K</td>\n",
       "      <td>1.29%</td>\n",
       "      <td>0.041609</td>\n",
       "    </tr>\n",
       "    <tr>\n",
       "      <th>1999-10-18</th>\n",
       "      <td>71.475</td>\n",
       "      <td>71.5</td>\n",
       "      <td>71.50</td>\n",
       "      <td>71.10</td>\n",
       "      <td>1.16K</td>\n",
       "      <td>0.78%</td>\n",
       "      <td>0.041078</td>\n",
       "    </tr>\n",
       "    <tr>\n",
       "      <th>1999-10-15</th>\n",
       "      <td>70.925</td>\n",
       "      <td>71.0</td>\n",
       "      <td>71.20</td>\n",
       "      <td>70.75</td>\n",
       "      <td>1.29K</td>\n",
       "      <td>-0.42%</td>\n",
       "      <td>0.040761</td>\n",
       "    </tr>\n",
       "  </tbody>\n",
       "</table>\n",
       "</div>"
      ],
      "text/plain": [
       "             Price  Open   High    Low   Vol. Change %  \\\n",
       "Date                                                     \n",
       "1999-10-21  71.175  71.5  71.60  70.95  1.74K   -0.28%   \n",
       "1999-10-20  71.375  72.2  72.20  71.20  1.65K   -1.42%   \n",
       "1999-10-19  72.400  71.5  72.45  71.40  1.68K    1.29%   \n",
       "1999-10-18  71.475  71.5  71.50  71.10  1.16K    0.78%   \n",
       "1999-10-15  70.925  71.0  71.20  70.75  1.29K   -0.42%   \n",
       "\n",
       "            Price per unit (USD/lb)  \n",
       "Date                                 \n",
       "1999-10-21                 0.040905  \n",
       "1999-10-20                 0.041020  \n",
       "1999-10-19                 0.041609  \n",
       "1999-10-18                 0.041078  \n",
       "1999-10-15                 0.040761  "
      ]
     },
     "execution_count": 8,
     "metadata": {},
     "output_type": "execute_result"
    }
   ],
   "source": [
    "live_cattle_df.head()"
   ]
  },
  {
   "cell_type": "code",
   "execution_count": 9,
   "metadata": {},
   "outputs": [
    {
     "data": {
      "text/plain": [
       "'5.71'"
      ]
     },
     "execution_count": 9,
     "metadata": {},
     "output_type": "execute_result"
    }
   ],
   "source": [
    "str(lean_hogs[\"Vol.\"]).split(\"K\")[0].split()[-1]"
   ]
  },
  {
   "cell_type": "code",
   "execution_count": 10,
   "metadata": {},
   "outputs": [],
   "source": [
    "lean_hogs_df.to_csv(\"../output_data/csv/lean_hogs_new.csv\")\n",
    "feeder_cattle_df.to_csv(\"../output_data/csv/feeder_cattle_new.csv\")\n",
    "live_cattle_df.to_csv(\"../output_data/csv/live_cattle_new.csv\")"
   ]
  },
  {
   "cell_type": "code",
   "execution_count": 11,
   "metadata": {},
   "outputs": [
    {
     "data": {
      "image/png": "[encoded data removed]",
      "text/plain": [
       "<Figure size 432x288 with 1 Axes>"
      ]
     },
     "metadata": {
      "needs_background": "light"
     },
     "output_type": "display_data"
    }
   ],
   "source": [
    "fig, ax = plt.subplots()\n",
    "\n",
    "plt.plot(lean_hogs_df.index, lean_hogs_df[\"Price per unit (USD/lb)\"])\n",
    "ax.set_xlim([datetime.date(2014, 1, 1), datetime.date(2020, 11, 10)])\n",
    "plt.xlabel(\"Date\")\n",
    "plt.ylabel(\"Price per unit (USD/lb)\")\n",
    "plt.title(\"Commodity Price of Lean hogs from 2014-2020\")\n",
    "plt.tight_layout()\n",
    "plt.savefig(\"../output_data/images/lean_hogs.png\")\n",
    "plt.show()"
   ]
  },
  {
   "cell_type": "code",
   "execution_count": 12,
   "metadata": {},
   "outputs": [
    {
     "data": {
      "image/png": "[encoded data removed]",
      "text/plain": [
       "<Figure size 432x288 with 1 Axes>"
      ]
     },
     "metadata": {
      "needs_background": "light"
     },
     "output_type": "display_data"
    }
   ],
   "source": [
    "fig, ax = plt.subplots()\n",
    "plt.plot(live_cattle_df.index, live_cattle_df[\"Price per unit (USD/lb)\"])\n",
    "ax.set_xlim([datetime.date(2014, 1, 1), datetime.date(2020, 11, 10)])\n",
    "plt.xlabel(\"Date\")\n",
    "plt.ylabel(\"Price per unit (USD/lb)\")\n",
    "plt.title(\"Commodity Price of Live Cattle from 2014-2020\")\n",
    "plt.tight_layout()\n",
    "plt.savefig(\"../output_data/images/live_cattle.png\")\n",
    "\n",
    "plt.show()"
   ]
  },
  {
   "cell_type": "code",
   "execution_count": 13,
   "metadata": {},
   "outputs": [
    {
     "data": {
      "image/png": "[encoded data removed]",
      "text/plain": [
       "<Figure size 432x288 with 1 Axes>"
      ]
     },
     "metadata": {
      "needs_background": "light"
     },
     "output_type": "display_data"
    }
   ],
   "source": [
    "fig, ax = plt.subplots()\n",
    "plt.plot(feeder_cattle_df.index, feeder_cattle_df[\"Price per unit (USD/lb)\"])\n",
    "ax.set_xlim([datetime.date(2014, 1, 1), datetime.date(2020, 11, 10)])\n",
    "plt.xlabel(\"Date\")\n",
    "plt.ylabel(\"Price per unit (USD/lb)\")\n",
    "plt.title(\"Commodity Price of Feeder Cattle from 2014-2020\")\n",
    "plt.tight_layout()\n",
    "plt.savefig(\"../output_data/images/feeder_cattle.png\")\n",
    "plt.show()"
   ]
  },
  {
   "cell_type": "code",
   "execution_count": 14,
   "metadata": {},
   "outputs": [
    {
     "data": {
      "image/png": "[encoded data removed]",
      "text/plain": [
       "<Figure size 432x288 with 1 Axes>"
      ]
     },
     "metadata": {
      "needs_background": "light"
     },
     "output_type": "display_data"
    }
   ],
   "source": [
    "fig, ax = plt.subplots()\n",
    "ax.set_xlim([datetime.date(2014, 1, 1), datetime.date(2020, 11, 10)])\n",
    "\n",
    "plt.plot(lean_hogs_df.index, lean_hogs_df[\"Price per unit (USD/lb)\"], label=\"Lean Hogs\")\n",
    "plt.plot(live_cattle_df.index, live_cattle_df[\"Price per unit (USD/lb)\"], label=\"Live Cattle\")\n",
    "plt.plot(feeder_cattle_df.index, feeder_cattle_df[\"Price per unit (USD/lb)\"], label=\"Feeder Cattle\")\n",
    "plt.xlabel(\"Date\")\n",
    "plt.ylabel(\"Price per unit (USD/lb)\")\n",
    "plt.title(\"Commodity Price of Livestock from 2014-2020\")\n",
    "plt.legend(loc=\"upper right\")\n",
    "plt.tight_layout()\n",
    "plt.savefig(\"../output_data/images/all_commodities.png\")\n",
    "\n",
    "plt.show()"
   ]
  },
  {
   "cell_type": "code",
   "execution_count": 15,
   "metadata": {},
   "outputs": [
    {
     "data": {
      "image/png": "[encoded data removed]",
      "text/plain": [
       "<Figure size 432x288 with 1 Axes>"
      ]
     },
     "metadata": {
      "needs_background": "light"
     },
     "output_type": "display_data"
    }
   ],
   "source": [
    "fig, ax = plt.subplots()\n",
    "ax.set_xlim([datetime.date(2014, 1, 1), datetime.date(2020, 11, 10)])\n",
    "\n",
    "plt.plot(lean_hogs_df.index, lean_hogs_df[\"Price per unit (USD/lb)\"], label=\"Lean Hogs\")\n",
    "plt.plot(live_cattle_df.index, live_cattle_df[\"Price per unit (USD/lb)\"], label=\"Live Cattle\")\n",
    "plt.xlabel(\"Date\")\n",
    "plt.ylabel(\"Price per unit (USD/lb)\")\n",
    "plt.title(\"Commodity Price of Livestock from 2014-2020\")\n",
    "plt.legend(loc=\"upper right\")\n",
    "plt.tight_layout()\n",
    "plt.savefig(\"../output_data/images/lean_hogs_and_live_cattle.png\")\n",
    "plt.show()"
   ]
  },
  {
   "cell_type": "code",
   "execution_count": 16,
   "metadata": {},
   "outputs": [],
   "source": [
    "lh_peak_value = lean_hogs_df[\"Price per unit (USD/lb)\"].max()\n",
    "lh_peak_value_date = lean_hogs_df.loc[lean_hogs_df[\"Price per unit (USD/lb)\"] == lh_peak_value].index\n",
    "summary_table = {\n",
    "    \"Max Value\": [lh_peak_value],\n",
    "    \"Date\": [lh_peak_value_date]\n",
    "}"
   ]
  },
  {
   "cell_type": "code",
   "execution_count": null,
   "metadata": {},
   "outputs": [],
   "source": []
  },
  {
   "cell_type": "code",
   "execution_count": 17,
   "metadata": {},
   "outputs": [],
   "source": [
    "# date_time = datetime.datetime.strptime(date, \"%b %d, %Y\").date()\n",
    "# date_time"
   ]
  },
  {
   "cell_type": "code",
   "execution_count": 18,
   "metadata": {},
   "outputs": [
    {
     "data": {
      "text/html": [
       "<div>\n",
       "<style scoped>\n",
       "    .dataframe tbody tr th:only-of-type {\n",
       "        vertical-align: middle;\n",
       "    }\n",
       "\n",
       "    .dataframe tbody tr th {\n",
       "        vertical-align: top;\n",
       "    }\n",
       "\n",
       "    .dataframe thead th {\n",
       "        text-align: right;\n",
       "    }\n",
       "</style>\n",
       "<table border=\"1\" class=\"dataframe\">\n",
       "  <thead>\n",
       "    <tr style=\"text-align: right;\">\n",
       "      <th></th>\n",
       "      <th>Max Value</th>\n",
       "      <th>Date</th>\n",
       "    </tr>\n",
       "  </thead>\n",
       "  <tbody>\n",
       "    <tr>\n",
       "      <th>0</th>\n",
       "      <td>0.014965</td>\n",
       "      <td>DatetimeIndex(['1997-04-17'], dtype='datetime6...</td>\n",
       "    </tr>\n",
       "  </tbody>\n",
       "</table>\n",
       "</div>"
      ],
      "text/plain": [
       "   Max Value                                               Date\n",
       "0   0.014965  DatetimeIndex(['1997-04-17'], dtype='datetime6..."
      ]
     },
     "execution_count": 18,
     "metadata": {},
     "output_type": "execute_result"
    }
   ],
   "source": [
    "sum_table = pd.DataFrame(summary_table)\n",
    "sum_table"
   ]
  },
  {
   "cell_type": "code",
   "execution_count": null,
   "metadata": {},
   "outputs": [],
   "source": []
  }
 ],
 "metadata": {
  "kernelspec": {
   "display_name": "Python 3",
   "language": "python",
   "name": "python3"
  },
  "language_info": {
   "codemirror_mode": {
    "name": "ipython",
    "version": 3
   },
   "file_extension": ".py",
   "mimetype": "text/x-python",
   "name": "python",
   "nbconvert_exporter": "python",
   "pygments_lexer": "ipython3",
   "version": "3.8.3"
  }
 },
 "nbformat": 4,
 "nbformat_minor": 4
}
